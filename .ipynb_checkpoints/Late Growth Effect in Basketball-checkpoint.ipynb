{
 "cells": [
  {
   "cell_type": "code",
   "execution_count": 1,
   "id": "a40f5bea",
   "metadata": {},
   "outputs": [],
   "source": [
    "import pandas as pd\n",
    "import numpy as np\n",
    "from scipy.stats import ttest_ind"
   ]
  },
  {
   "cell_type": "code",
   "execution_count": 2,
   "id": "627e2763",
   "metadata": {},
   "outputs": [
    {
     "data": {
      "text/html": [
       "<div>\n",
       "<style scoped>\n",
       "    .dataframe tbody tr th:only-of-type {\n",
       "        vertical-align: middle;\n",
       "    }\n",
       "\n",
       "    .dataframe tbody tr th {\n",
       "        vertical-align: top;\n",
       "    }\n",
       "\n",
       "    .dataframe thead th {\n",
       "        text-align: right;\n",
       "    }\n",
       "</style>\n",
       "<table border=\"1\" class=\"dataframe\">\n",
       "  <thead>\n",
       "    <tr style=\"text-align: right;\">\n",
       "      <th></th>\n",
       "      <th>Year</th>\n",
       "      <th>RK</th>\n",
       "      <th>PLAYER</th>\n",
       "      <th>POS_HS</th>\n",
       "      <th>HOMETOWN</th>\n",
       "      <th>HOMETOWN_</th>\n",
       "      <th>HT</th>\n",
       "      <th>WT</th>\n",
       "      <th>GRADE</th>\n",
       "      <th>SCHOOL</th>\n",
       "      <th>...</th>\n",
       "      <th>TOV%</th>\n",
       "      <th>USG%</th>\n",
       "      <th>OWS</th>\n",
       "      <th>DWS</th>\n",
       "      <th>WS</th>\n",
       "      <th>WS/48</th>\n",
       "      <th>OBPM</th>\n",
       "      <th>DBPM</th>\n",
       "      <th>BPM</th>\n",
       "      <th>VORP</th>\n",
       "    </tr>\n",
       "  </thead>\n",
       "  <tbody>\n",
       "    <tr>\n",
       "      <th>0</th>\n",
       "      <td>2007</td>\n",
       "      <td>1</td>\n",
       "      <td>Kevin Love</td>\n",
       "      <td>C</td>\n",
       "      <td>Lake Oswego, OR</td>\n",
       "      <td>Lake Oswego High School</td>\n",
       "      <td>6'9''</td>\n",
       "      <td>255.0</td>\n",
       "      <td>99</td>\n",
       "      <td>UCLA</td>\n",
       "      <td>...</td>\n",
       "      <td>10.3</td>\n",
       "      <td>28.8</td>\n",
       "      <td>10.6</td>\n",
       "      <td>3.7</td>\n",
       "      <td>14.3</td>\n",
       "      <td>0.245</td>\n",
       "      <td>7.2</td>\n",
       "      <td>1.2</td>\n",
       "      <td>8.4</td>\n",
       "      <td>7.3</td>\n",
       "    </tr>\n",
       "    <tr>\n",
       "      <th>1</th>\n",
       "      <td>2007</td>\n",
       "      <td>2</td>\n",
       "      <td>Eric Gordon</td>\n",
       "      <td>SG</td>\n",
       "      <td>Indianapolis, IN</td>\n",
       "      <td>North Central High School</td>\n",
       "      <td>6'5''</td>\n",
       "      <td>205.0</td>\n",
       "      <td>98</td>\n",
       "      <td>INDIANA</td>\n",
       "      <td>...</td>\n",
       "      <td>12.8</td>\n",
       "      <td>23.2</td>\n",
       "      <td>2.0</td>\n",
       "      <td>0.5</td>\n",
       "      <td>2.5</td>\n",
       "      <td>0.058</td>\n",
       "      <td>1.2</td>\n",
       "      <td>-2.5</td>\n",
       "      <td>-1.2</td>\n",
       "      <td>0.4</td>\n",
       "    </tr>\n",
       "    <tr>\n",
       "      <th>2</th>\n",
       "      <td>2007</td>\n",
       "      <td>3</td>\n",
       "      <td>O.J. Mayo</td>\n",
       "      <td>SG</td>\n",
       "      <td>Huntington, WV</td>\n",
       "      <td>Huntington High School</td>\n",
       "      <td>6'4''</td>\n",
       "      <td>195.0</td>\n",
       "      <td>98</td>\n",
       "      <td>USC</td>\n",
       "      <td>...</td>\n",
       "      <td>15.7</td>\n",
       "      <td>20.9</td>\n",
       "      <td>2.3</td>\n",
       "      <td>1.8</td>\n",
       "      <td>4.2</td>\n",
       "      <td>0.069</td>\n",
       "      <td>1.1</td>\n",
       "      <td>-0.7</td>\n",
       "      <td>0.4</td>\n",
       "      <td>1.7</td>\n",
       "    </tr>\n",
       "    <tr>\n",
       "      <th>3</th>\n",
       "      <td>2007</td>\n",
       "      <td>4</td>\n",
       "      <td>Kyle Singler</td>\n",
       "      <td>SF</td>\n",
       "      <td>Medford, OR</td>\n",
       "      <td>Camden Catholic High School</td>\n",
       "      <td>6'8''</td>\n",
       "      <td>215.0</td>\n",
       "      <td>98</td>\n",
       "      <td>DUKE</td>\n",
       "      <td>...</td>\n",
       "      <td>10.4</td>\n",
       "      <td>14.0</td>\n",
       "      <td>3.6</td>\n",
       "      <td>0.7</td>\n",
       "      <td>4.4</td>\n",
       "      <td>0.090</td>\n",
       "      <td>0.7</td>\n",
       "      <td>-0.8</td>\n",
       "      <td>-0.1</td>\n",
       "      <td>1.1</td>\n",
       "    </tr>\n",
       "    <tr>\n",
       "      <th>4</th>\n",
       "      <td>2007</td>\n",
       "      <td>5</td>\n",
       "      <td>Derrick Rose</td>\n",
       "      <td>PG</td>\n",
       "      <td>Chicago, IL</td>\n",
       "      <td>Simeon Career Academy</td>\n",
       "      <td>6'4''</td>\n",
       "      <td>195.0</td>\n",
       "      <td>98</td>\n",
       "      <td>MEMPHIS</td>\n",
       "      <td>...</td>\n",
       "      <td>16.0</td>\n",
       "      <td>31.5</td>\n",
       "      <td>-0.6</td>\n",
       "      <td>0.4</td>\n",
       "      <td>-0.2</td>\n",
       "      <td>-0.036</td>\n",
       "      <td>-2.8</td>\n",
       "      <td>-2.3</td>\n",
       "      <td>-5.1</td>\n",
       "      <td>-0.2</td>\n",
       "    </tr>\n",
       "  </tbody>\n",
       "</table>\n",
       "<p>5 rows × 60 columns</p>\n",
       "</div>"
      ],
      "text/plain": [
       "   Year  RK        PLAYER POS_HS          HOMETOWN  \\\n",
       "0  2007   1    Kevin Love      C   Lake Oswego, OR   \n",
       "1  2007   2   Eric Gordon     SG  Indianapolis, IN   \n",
       "2  2007   3     O.J. Mayo     SG    Huntington, WV   \n",
       "3  2007   4  Kyle Singler     SF       Medford, OR   \n",
       "4  2007   5  Derrick Rose     PG       Chicago, IL   \n",
       "\n",
       "                     HOMETOWN_     HT     WT  GRADE   SCHOOL  ...  TOV%  USG%  \\\n",
       "0      Lake Oswego High School  6'9''  255.0     99     UCLA  ...  10.3  28.8   \n",
       "1    North Central High School  6'5''  205.0     98  INDIANA  ...  12.8  23.2   \n",
       "2       Huntington High School  6'4''  195.0     98      USC  ...  15.7  20.9   \n",
       "3  Camden Catholic High School  6'8''  215.0     98     DUKE  ...  10.4  14.0   \n",
       "4        Simeon Career Academy  6'4''  195.0     98  MEMPHIS  ...  16.0  31.5   \n",
       "\n",
       "    OWS  DWS    WS  WS/48  OBPM  DBPM  BPM  VORP  \n",
       "0  10.6  3.7  14.3  0.245   7.2   1.2  8.4   7.3  \n",
       "1   2.0  0.5   2.5  0.058   1.2  -2.5 -1.2   0.4  \n",
       "2   2.3  1.8   4.2  0.069   1.1  -0.7  0.4   1.7  \n",
       "3   3.6  0.7   4.4  0.090   0.7  -0.8 -0.1   1.1  \n",
       "4  -0.6  0.4  -0.2 -0.036  -2.8  -2.3 -5.1  -0.2  \n",
       "\n",
       "[5 rows x 60 columns]"
      ]
     },
     "execution_count": 2,
     "metadata": {},
     "output_type": "execute_result"
    }
   ],
   "source": [
    "nba = pd.read_excel('NBA Highschool & NBA_WIP.xlsx')\n",
    "nba.head()"
   ]
  },
  {
   "cell_type": "code",
   "execution_count": 3,
   "id": "0ad415e1",
   "metadata": {},
   "outputs": [
    {
     "data": {
      "text/plain": [
       "Index(['Year', 'RK', 'PLAYER', 'POS_HS', 'HOMETOWN', 'HOMETOWN_', 'HT', 'WT',\n",
       "       'GRADE', 'SCHOOL', 'STATUS', 'Final Height', 'Pos', 'Age', 'Tm', 'G',\n",
       "       'GS', 'MP', 'FG', 'FGA', 'FG%', '3P', '3PA', '3P%', '2P', '2PA', '2P%',\n",
       "       'eFG%', 'FT', 'FTA', 'FT%', 'ORB', 'DRB', 'TRB', 'AST', 'STL', 'BLK',\n",
       "       'TOV', 'PF', 'PTS', 'PER', 'TS%', '3PAr', 'FTr', 'ORB%', 'DRB%', 'TRB%',\n",
       "       'AST%', 'STL%', 'BLK%', 'TOV%', 'USG%', 'OWS', 'DWS', 'WS', 'WS/48',\n",
       "       'OBPM', 'DBPM', 'BPM', 'VORP'],\n",
       "      dtype='object')"
      ]
     },
     "execution_count": 3,
     "metadata": {},
     "output_type": "execute_result"
    }
   ],
   "source": [
    "nba.columns"
   ]
  },
  {
   "cell_type": "code",
   "execution_count": 4,
   "id": "c90eed8c",
   "metadata": {},
   "outputs": [
    {
     "data": {
      "text/plain": [
       "0       6'9''\n",
       "1       6'5''\n",
       "2       6'4''\n",
       "3       6'8''\n",
       "4       6'4''\n",
       "        ...  \n",
       "395     6'6''\n",
       "396     6'4''\n",
       "397    6'11''\n",
       "398     6'9''\n",
       "399     6'6''\n",
       "Name: HT, Length: 400, dtype: object"
      ]
     },
     "execution_count": 4,
     "metadata": {},
     "output_type": "execute_result"
    }
   ],
   "source": [
    "nba['HT']"
   ]
  },
  {
   "cell_type": "code",
   "execution_count": 5,
   "id": "4b73c8a0",
   "metadata": {},
   "outputs": [],
   "source": [
    "def Imperial_to_Metric(value):\n",
    "    feet_inches = value.split(\"'\")\n",
    "    feet = int(feet_inches[0])\n",
    "    inches = int(feet_inches[1].strip('\"'))\n",
    "    total_inches = feet * 12 + inches\n",
    "    metric = total_inches*2.54 # conversion rate\n",
    "    return metric"
   ]
  },
  {
   "cell_type": "code",
   "execution_count": 6,
   "id": "539553ac",
   "metadata": {},
   "outputs": [],
   "source": [
    "nba['HT_cm'] = nba['HT'].apply(Imperial_to_Metric)\n",
    "nba['Final Height_cm'] = nba['Final Height'].apply(Imperial_to_Metric)\n",
    "nba['Height Diff_cm'] = round(nba['Final Height_cm'] - nba['HT_cm'],2)"
   ]
  },
  {
   "cell_type": "code",
   "execution_count": 7,
   "id": "8763d6f0",
   "metadata": {},
   "outputs": [
    {
     "data": {
      "text/plain": [
       "0.00    267\n",
       "2.54    108\n",
       "5.08     25\n",
       "Name: Height Diff_cm, dtype: int64"
      ]
     },
     "execution_count": 7,
     "metadata": {},
     "output_type": "execute_result"
    }
   ],
   "source": [
    "nba['Height Diff_cm'].value_counts()"
   ]
  },
  {
   "cell_type": "code",
   "execution_count": 8,
   "id": "9e97e10d",
   "metadata": {},
   "outputs": [],
   "source": [
    "def Growth_Checker(value):\n",
    "    if value > 0:\n",
    "        return 'Yes'\n",
    "    else:\n",
    "        return 'No'"
   ]
  },
  {
   "cell_type": "code",
   "execution_count": 9,
   "id": "fe875693",
   "metadata": {},
   "outputs": [],
   "source": [
    "nba['Growth'] = nba['Height Diff_cm'].apply(Growth_Checker)"
   ]
  },
  {
   "cell_type": "code",
   "execution_count": 10,
   "id": "fbeee629",
   "metadata": {},
   "outputs": [
    {
     "data": {
      "text/plain": [
       "SG       96\n",
       "PF       83\n",
       "PG       74\n",
       "C        72\n",
       "SF       70\n",
       "SF-PF     2\n",
       "SF-SG     1\n",
       "PF-C      1\n",
       "SG-PG     1\n",
       "Name: Pos, dtype: int64"
      ]
     },
     "execution_count": 10,
     "metadata": {},
     "output_type": "execute_result"
    }
   ],
   "source": [
    "nba['Pos'].value_counts()"
   ]
  },
  {
   "cell_type": "code",
   "execution_count": 11,
   "id": "d12a7489",
   "metadata": {},
   "outputs": [],
   "source": [
    "def Position_Main(value):\n",
    "    if value == 'PG':\n",
    "        return 'Point Guard'\n",
    "    elif value == 'SG':\n",
    "        return 'Shooting Guard'\n",
    "    elif value == 'SF':\n",
    "        return 'Small Forward'\n",
    "    elif value == 'PF':\n",
    "        return 'Power Forward'\n",
    "    elif value == 'C':\n",
    "        return 'Center'\n",
    "    elif value == 'SF-PF':\n",
    "        return 'Small Forward'\n",
    "    elif value == 'SF-SG':\n",
    "        return 'Small Forward'\n",
    "    elif value == 'PF-C':\n",
    "        return 'Center'\n",
    "    elif value == 'SG-PG':\n",
    "        return 'Point Guard'"
   ]
  },
  {
   "cell_type": "code",
   "execution_count": 12,
   "id": "918ef18b",
   "metadata": {},
   "outputs": [],
   "source": [
    "nba['Position'] = nba['Pos'].apply(Position_Main)"
   ]
  },
  {
   "cell_type": "code",
   "execution_count": 13,
   "id": "982ffc18",
   "metadata": {},
   "outputs": [
    {
     "data": {
      "text/plain": [
       "Shooting Guard    96\n",
       "Power Forward     83\n",
       "Point Guard       75\n",
       "Small Forward     73\n",
       "Center            73\n",
       "Name: Position, dtype: int64"
      ]
     },
     "execution_count": 13,
     "metadata": {},
     "output_type": "execute_result"
    }
   ],
   "source": [
    "nba['Position'].value_counts()"
   ]
  },
  {
   "cell_type": "code",
   "execution_count": 14,
   "id": "da2ce394",
   "metadata": {},
   "outputs": [],
   "source": [
    "def Size_Checker(value):\n",
    "    if value == 'Center':\n",
    "        return 'Big'\n",
    "    elif value == 'Point Guard':\n",
    "        return 'Short'\n",
    "    elif value == 'Shooting Guard':\n",
    "        return 'Short'\n",
    "    else:\n",
    "        return 'Medium'"
   ]
  },
  {
   "cell_type": "code",
   "execution_count": 15,
   "id": "882faa63",
   "metadata": {},
   "outputs": [],
   "source": [
    "nba['Size'] = nba['Position'].apply(Size_Checker)"
   ]
  },
  {
   "cell_type": "code",
   "execution_count": 16,
   "id": "a9f22040",
   "metadata": {},
   "outputs": [],
   "source": [
    "def HT_group(value):\n",
    "    if value < 190:\n",
    "        return '[1.75 - 1.90]'\n",
    "    if value < 205:\n",
    "        return '[1.90 - 2.05]'\n",
    "    else:\n",
    "        return '[2.05 - 2.30]'"
   ]
  },
  {
   "cell_type": "code",
   "execution_count": 17,
   "id": "acee1228",
   "metadata": {},
   "outputs": [],
   "source": [
    "nba['Height Group'] = nba['Final Height_cm'].apply(HT_group)"
   ]
  },
  {
   "cell_type": "code",
   "execution_count": 18,
   "id": "bec07368",
   "metadata": {},
   "outputs": [
    {
     "data": {
      "text/plain": [
       "[1.90 - 2.05]    227\n",
       "[2.05 - 2.30]    132\n",
       "[1.75 - 1.90]     41\n",
       "Name: Height Group, dtype: int64"
      ]
     },
     "execution_count": 18,
     "metadata": {},
     "output_type": "execute_result"
    }
   ],
   "source": [
    "nba['Height Group'].value_counts()"
   ]
  },
  {
   "cell_type": "code",
   "execution_count": 19,
   "id": "6752cd0c",
   "metadata": {},
   "outputs": [
    {
     "data": {
      "text/plain": [
       "Year                int64\n",
       "RK                  int64\n",
       "PLAYER             object\n",
       "POS_HS             object\n",
       "HOMETOWN           object\n",
       "                   ...   \n",
       "Height Diff_cm    float64\n",
       "Growth             object\n",
       "Position           object\n",
       "Size               object\n",
       "Height Group       object\n",
       "Length: 67, dtype: object"
      ]
     },
     "execution_count": 19,
     "metadata": {},
     "output_type": "execute_result"
    }
   ],
   "source": [
    "nba.dtypes"
   ]
  },
  {
   "cell_type": "code",
   "execution_count": 20,
   "id": "0e0a195e",
   "metadata": {},
   "outputs": [
    {
     "name": "stdout",
     "output_type": "stream",
     "text": [
      "0.37163636363636365\n",
      "0.42724999999999996\n",
      "0.22333333333333336\n"
     ]
    }
   ],
   "source": [
    "col = '3PAr'\n",
    "print(np.mean(nba.loc[(nba['Final Height_cm'] < 185),col]))\n",
    "print(np.mean(nba.loc[(nba['Height Diff_cm'] == 0) & (nba['Final Height_cm'] < 185), col]))\n",
    "print(np.mean(nba.loc[(nba['Height Diff_cm'] != 0) & (nba['Final Height_cm'] < 185), col]))"
   ]
  },
  {
   "cell_type": "code",
   "execution_count": 21,
   "id": "c4f0e60c",
   "metadata": {},
   "outputs": [],
   "source": [
    "nba_tall = nba[nba['Growth']=='No']\n",
    "nba_short = nba[nba['Growth']=='Yes']"
   ]
  },
  {
   "cell_type": "code",
   "execution_count": 22,
   "id": "62e1b842",
   "metadata": {},
   "outputs": [
    {
     "name": "stdout",
     "output_type": "stream",
     "text": [
      "-1.3064616261374633 0.19215007775513718\n"
     ]
    }
   ],
   "source": [
    "statistic, pvalue = ttest_ind(nba_short['3PAr'], nba_tall['3PAr'])\n",
    "print(statistic, pvalue)"
   ]
  },
  {
   "cell_type": "code",
   "execution_count": 23,
   "id": "cf8c845b",
   "metadata": {},
   "outputs": [
    {
     "data": {
      "text/plain": [
       "['Power Forward', 'Shooting Guard', 'Small Forward', 'Point Guard', 'Center']"
      ]
     },
     "execution_count": 23,
     "metadata": {},
     "output_type": "execute_result"
    }
   ],
   "source": [
    "Positions = list(nba['Position'].unique())\n",
    "Positions"
   ]
  },
  {
   "cell_type": "code",
   "execution_count": 24,
   "id": "816b8db8",
   "metadata": {},
   "outputs": [],
   "source": [
    "Positions = ['Point Guard', 'Shooting Guard', 'Small Forward', 'Power Forward', 'Center']"
   ]
  },
  {
   "cell_type": "code",
   "execution_count": 25,
   "id": "bb876a58",
   "metadata": {},
   "outputs": [
    {
     "name": "stdout",
     "output_type": "stream",
     "text": [
      "----- 3P%\n",
      "Point Guard\n",
      "pvalue:  0.032494131243918284\n",
      "median tall vs short:  0.344  vs  0.25\n",
      "std_dev tall vs short:  0.15715952357388255  vs  0.1500720905196605\n",
      "\n",
      "Shooting Guard\n",
      "pvalue:  0.11623558447665336\n",
      "median tall vs short:  0.347  vs  0.347\n",
      "std_dev tall vs short:  0.10678249519505491  vs  0.15332996949538125\n",
      "\n",
      "Small Forward\n",
      "pvalue:  0.126608485829272\n",
      "median tall vs short:  0.332  vs  0.312\n",
      "std_dev tall vs short:  0.15308354395091403  vs  0.1729022091040004\n",
      "\n",
      "Power Forward\n",
      "pvalue:  0.039016989133049594\n",
      "median tall vs short:  0.3175  vs  0.2\n",
      "std_dev tall vs short:  0.18118699442303232  vs  0.16644552850741878\n",
      "\n",
      "Center\n",
      "pvalue:  0.6043910732434864\n",
      "median tall vs short:  0.066  vs  0.0\n",
      "std_dev tall vs short:  0.18520421853754457  vs  0.1812064576747482\n",
      "\n",
      "----- 2P%\n",
      "Point Guard\n",
      "pvalue:  0.32411139433892844\n",
      "median tall vs short:  0.4475  vs  0.441\n",
      "std_dev tall vs short:  0.14201955443353675  vs  0.16728196959906103\n",
      "\n",
      "Shooting Guard\n",
      "pvalue:  0.22321427051126816\n",
      "median tall vs short:  0.474  vs  0.477\n",
      "std_dev tall vs short:  0.1368756391919273  vs  0.18742411090488023\n",
      "\n",
      "Small Forward\n",
      "pvalue:  0.8507658662650769\n",
      "median tall vs short:  0.501  vs  0.5\n",
      "std_dev tall vs short:  0.1168714643686536  vs  0.13466640087895607\n",
      "\n",
      "Power Forward\n",
      "pvalue:  0.0100581277826766\n",
      "median tall vs short:  0.5025  vs  0.5\n",
      "std_dev tall vs short:  0.07395111582976643  vs  0.22199985241647005\n",
      "\n",
      "Center\n",
      "pvalue:  0.5543402592149509\n",
      "median tall vs short:  0.5485  vs  0.542\n",
      "std_dev tall vs short:  0.13919414361022742  vs  0.16033014589221262\n",
      "\n",
      "----- eFG%\n",
      "Point Guard\n",
      "pvalue:  0.15913878796943728\n",
      "median tall vs short:  0.485  vs  0.451\n",
      "std_dev tall vs short:  0.15261951571120438  vs  0.17848556128784002\n",
      "\n",
      "Shooting Guard\n",
      "pvalue:  0.08633085903213064\n",
      "median tall vs short:  0.498  vs  0.479\n",
      "std_dev tall vs short:  0.12377835185986646  vs  0.15905068755626683\n",
      "\n",
      "Small Forward\n",
      "pvalue:  0.0970087611303065\n",
      "median tall vs short:  0.5065  vs  0.485\n",
      "std_dev tall vs short:  0.11994288606819224  vs  0.21716183106053705\n",
      "\n",
      "Power Forward\n",
      "pvalue:  0.022050347380514645\n",
      "median tall vs short:  0.501  vs  0.48\n",
      "std_dev tall vs short:  0.07256370242132708  vs  0.1969509100478111\n",
      "\n",
      "Center\n",
      "pvalue:  0.7696039189282953\n",
      "median tall vs short:  0.54  vs  0.541\n",
      "std_dev tall vs short:  0.13829168124859897  vs  0.15528595933524278\n",
      "\n",
      "----- 3PAr\n",
      "Point Guard\n",
      "pvalue:  0.07542793942873072\n",
      "median tall vs short:  0.3415  vs  0.25\n",
      "std_dev tall vs short:  0.13661355407826392  vs  0.19964232723430522\n",
      "\n",
      "Shooting Guard\n",
      "pvalue:  0.6885023776648279\n",
      "median tall vs short:  0.4  vs  0.425\n",
      "std_dev tall vs short:  0.17892211831957258  vs  0.1635377933337883\n",
      "\n",
      "Small Forward\n",
      "pvalue:  0.042468486204395715\n",
      "median tall vs short:  0.3105  vs  0.397\n",
      "std_dev tall vs short:  0.1602335298295355  vs  0.234378448064228\n",
      "\n",
      "Power Forward\n",
      "pvalue:  0.7061398513698574\n",
      "median tall vs short:  0.2775  vs  0.283\n",
      "std_dev tall vs short:  0.21026249518903004  vs  0.24772664375979025\n",
      "\n",
      "Center\n",
      "pvalue:  0.46313112498402176\n",
      "median tall vs short:  0.0195  vs  0.007\n",
      "std_dev tall vs short:  0.13230595612307494  vs  0.13976687841913873\n",
      "\n",
      "----- AST%\n",
      "Point Guard\n",
      "pvalue:  0.6961708096473411\n",
      "median tall vs short:  20.75  vs  21.8\n",
      "std_dev tall vs short:  11.165447333451528  vs  11.451358126492092\n",
      "\n",
      "Shooting Guard\n",
      "pvalue:  0.4992557933834151\n",
      "median tall vs short:  11.5  vs  12.4\n",
      "std_dev tall vs short:  7.1908045621401815  vs  7.773901315727302\n",
      "\n",
      "Small Forward\n",
      "pvalue:  0.5848995918794393\n",
      "median tall vs short:  8.45  vs  7.1\n",
      "std_dev tall vs short:  5.38373362594232  vs  8.186441601022787\n",
      "\n",
      "Power Forward\n",
      "pvalue:  0.065180696163535\n",
      "median tall vs short:  7.5  vs  7.1\n",
      "std_dev tall vs short:  6.07516527486151  vs  4.041064145766487\n",
      "\n",
      "Center\n",
      "pvalue:  0.2032717171280821\n",
      "median tall vs short:  6.6  vs  7.0\n",
      "std_dev tall vs short:  5.142332479851271  vs  13.362596202562107\n",
      "\n",
      "----- STL%\n",
      "Point Guard\n",
      "pvalue:  0.008840383612967009\n",
      "median tall vs short:  1.55  vs  2.1\n",
      "std_dev tall vs short:  0.8847364696279085  vs  2.825579066107252\n",
      "\n",
      "Shooting Guard\n",
      "pvalue:  0.31616912778213824\n",
      "median tall vs short:  1.2  vs  1.6\n",
      "std_dev tall vs short:  1.2974590157663732  vs  1.312923813248103\n",
      "\n",
      "Small Forward\n",
      "pvalue:  0.3970835428242332\n",
      "median tall vs short:  1.5  vs  1.4\n",
      "std_dev tall vs short:  0.9429112538585278  vs  0.740393016027176\n",
      "\n",
      "Power Forward\n",
      "pvalue:  0.36171718958458987\n",
      "median tall vs short:  1.2  vs  1.4\n",
      "std_dev tall vs short:  0.7277054313423769  vs  1.2624761993186857\n",
      "\n",
      "Center\n",
      "pvalue:  0.07437686201613883\n",
      "median tall vs short:  1.2  vs  1.1\n",
      "std_dev tall vs short:  0.8043312240294529  vs  0.7481163213719042\n",
      "\n",
      "----- BLK%\n",
      "Point Guard\n",
      "pvalue:  0.6110429524494636\n",
      "median tall vs short:  0.4  vs  1.1\n",
      "std_dev tall vs short:  1.2414023742564042  vs  0.5756709640267862\n",
      "\n",
      "Shooting Guard\n",
      "pvalue:  0.3968648599279131\n",
      "median tall vs short:  0.7  vs  0.6\n",
      "std_dev tall vs short:  0.5948102917352067  vs  0.721228434371146\n",
      "\n",
      "Small Forward\n",
      "pvalue:  0.9912142195441562\n",
      "median tall vs short:  1.3  vs  1.4\n",
      "std_dev tall vs short:  1.2585446729765102  vs  1.0090107862646558\n",
      "\n",
      "Power Forward\n",
      "pvalue:  0.1931262221985847\n",
      "median tall vs short:  1.8  vs  2.6\n",
      "std_dev tall vs short:  1.2404636230055277  vs  2.397547417306615\n",
      "\n",
      "Center\n",
      "pvalue:  0.9132072911131298\n",
      "median tall vs short:  3.9  vs  3.3\n",
      "std_dev tall vs short:  2.1618842683510118  vs  4.946723739767136\n",
      "\n",
      "----- TRB%\n",
      "Point Guard\n",
      "pvalue:  0.576074371624491\n",
      "median tall vs short:  6.2  vs  5.8\n",
      "std_dev tall vs short:  3.18017195257  vs  3.5897218473269583\n",
      "\n",
      "Shooting Guard\n",
      "pvalue:  0.3184306663604426\n",
      "median tall vs short:  6.6  vs  6.0\n",
      "std_dev tall vs short:  7.403062567712393  vs  3.2371892035211567\n",
      "\n",
      "Small Forward\n",
      "pvalue:  0.35135358389446225\n",
      "median tall vs short:  9.8  vs  9.1\n",
      "std_dev tall vs short:  3.309731476869323  vs  2.921286196776731\n",
      "\n",
      "Power Forward\n",
      "pvalue:  0.8943573578284134\n",
      "median tall vs short:  12.149999999999999  vs  12.7\n",
      "std_dev tall vs short:  3.17137716408552  vs  5.827310688263485\n",
      "\n",
      "Center\n",
      "pvalue:  0.887896212115777\n",
      "median tall vs short:  15.25  vs  16.5\n",
      "std_dev tall vs short:  6.8005486204027354  vs  5.015766807444966\n",
      "\n"
     ]
    }
   ],
   "source": [
    "nba_cols = ['3P%','2P%','eFG%','3PAr','AST%','STL%','BLK%','TRB%']\n",
    "\n",
    "for col in nba_cols:\n",
    "    print('-----',col)\n",
    "    for P in Positions:    \n",
    "        statistic, pvalue = ttest_ind(nba_short[nba_short['Position']==P][col], nba_tall[nba_tall['Position']==P][col])\n",
    "        median_short = nba_short[nba_short['Position']==P][col].median()\n",
    "        median_tall = nba_tall[nba_tall['Position']==P][col].median()\n",
    "        print(P)\n",
    "        print('pvalue: ',pvalue)\n",
    "        print('median tall vs short: ',median_tall,' vs ',median_short)\n",
    "\n",
    "        std_dev_short = np.sqrt(np.sum((nba_short[nba_short['Position']==P][col] -\n",
    "                                        nba_short[nba_short['Position']==P][col].mean())**2) /\n",
    "                                (len(nba_short[nba_short['Position']==P][col]) - 1))\n",
    "\n",
    "        std_dev_tall = np.sqrt(np.sum((nba_tall[nba_tall['Position']==P][col] -\n",
    "                                        nba_tall[nba_tall['Position']==P][col].mean())**2) /\n",
    "                                (len(nba_tall[nba_tall['Position']==P][col]) - 1))\n",
    "        print('std_dev tall vs short: ', std_dev_tall,' vs ',std_dev_short)\n",
    "        print(\"\")"
   ]
  },
  {
   "cell_type": "code",
   "execution_count": 26,
   "id": "a7f83c40",
   "metadata": {},
   "outputs": [],
   "source": [
    "nba.to_excel('NBA Highschool & NBA_final.xlsx')"
   ]
  }
 ],
 "metadata": {
  "kernelspec": {
   "display_name": "Python 3 (ipykernel)",
   "language": "python",
   "name": "python3"
  },
  "language_info": {
   "codemirror_mode": {
    "name": "ipython",
    "version": 3
   },
   "file_extension": ".py",
   "mimetype": "text/x-python",
   "name": "python",
   "nbconvert_exporter": "python",
   "pygments_lexer": "ipython3",
   "version": "3.9.13"
  }
 },
 "nbformat": 4,
 "nbformat_minor": 5
}
